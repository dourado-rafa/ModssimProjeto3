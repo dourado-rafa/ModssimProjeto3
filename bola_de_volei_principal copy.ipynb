{
 "cells": [
  {
   "cell_type": "markdown",
   "metadata": {},
   "source": [
    "# Saque de uma Bola de Volei\n",
    "### Projeto 3 - Sistema Mecânico\n",
    "-----\n",
    "- Alex Pacchioni\n",
    "- Beatriz Rodrigues\n",
    "- Maria Vitória Sartori\n",
    "- Rafael Dourado"
   ]
  },
  {
   "cell_type": "markdown",
   "metadata": {},
   "source": [
    "#### Bibliotecas e Funções Básicas"
   ]
  },
  {
   "cell_type": "code",
   "execution_count": 1,
   "metadata": {},
   "outputs": [],
   "source": [
    "# Importa bibliotecas\n",
    "import numpy as np\n",
    "import matplotlib.pyplot as plt\n",
    "from math import *\n",
    "from scipy.integrate import odeint"
   ]
  },
  {
   "cell_type": "code",
   "execution_count": 2,
   "metadata": {},
   "outputs": [],
   "source": [
    "# Função para deixar os eixos 3D igual (equivalente ao plt.axes('equal'))\n",
    "def set_axis_equal(ax):\n",
    "    x_limits = ax.get_xlim3d()\n",
    "    y_limits = ax.get_ylim3d()\n",
    "    z_limits = ax.get_zlim3d()\n",
    "\n",
    "    x_range = abs(x_limits[1] - x_limits[0])\n",
    "    x_middle = np.mean(x_limits)\n",
    "    y_range = abs(y_limits[1] - y_limits[0])\n",
    "    y_middle = np.mean(y_limits)\n",
    "    z_range = abs(z_limits[1] - z_limits[0])\n",
    "    z_middle = np.mean(z_limits)\n",
    "    \n",
    "    plot_radius = 0.5*max([x_range, y_range, z_range])\n",
    "\n",
    "    ax.set_xlim3d([x_middle - plot_radius, x_middle + plot_radius])\n",
    "    ax.set_ylim3d([y_middle - plot_radius, y_middle + plot_radius])\n",
    "    ax.set_zlim3d([0, z_middle + plot_radius])\n",
    "# Fonte: https://stackoverflow.com/questions/13685386/matplotlib-equal-unit-length-with-equal-aspect-ratio-z-axis-is-not-equal-to"
   ]
  },
  {
   "cell_type": "markdown",
   "metadata": {},
   "source": [
    "#### Parâmetros"
   ]
  },
  {
   "cell_type": "code",
   "execution_count": 3,
   "metadata": {},
   "outputs": [],
   "source": [
    "d_ar = 1.2 # Densidade do Ar [kg/m³]\n",
    "g = 9.8 # Aceleração da Gravidade [m/s]\n",
    "\n",
    "cl = 1 # Coeficiente de Lift (Magnus)\n",
    "cd = 0.1 # Coeficiente de Arrasto\n",
    "\n",
    "r = 0.105 # Raio da Bola [m]\n",
    "m = 0.27 # Massa da Bola [kg]\n",
    "A = pi*(r**2) # Álea Transversal da Bola [m²]"
   ]
  },
  {
   "cell_type": "markdown",
   "metadata": {},
   "source": [
    "#### A Quadra de Volei"
   ]
  },
  {
   "cell_type": "code",
   "execution_count": 4,
   "metadata": {},
   "outputs": [],
   "source": [
    "# Quadra: 9 mestros de largula por 18 metros de comprimento\n",
    "# Rede: 2,43 metros de altura, localizada no meio da quadra (9 metros)\n",
    "\n",
    "quadra_x = [0, 18, 18, 0, 0]\n",
    "quadra_y = [-4.5, -4.5, 4.5, 4.5, -4.5]\n",
    "quadra_z = [0, 0, 0, 0, 0]\n",
    "\n",
    "rede_x = [9, 9, 9, 9, 9]\n",
    "rede_y = [-4.5, -4.5, 4.5, 4.5, -4.5]\n",
    "rede_z = [1.43, 2.43, 2.43, 1.43, 1.43]"
   ]
  },
  {
   "cell_type": "markdown",
   "metadata": {},
   "source": [
    "#### Dados do Vídeo"
   ]
  },
  {
   "cell_type": "code",
   "execution_count": 5,
   "metadata": {},
   "outputs": [],
   "source": [
    "import pandas\n",
    "colunas = ['t', 'x', 'y']\n",
    "data = pandas.read_csv('dados-volei.txt', names=colunas)\n",
    "\n",
    "t_video = data.t.tolist()\n",
    "t_video = list(np.array(t_video)-t_video[0])\n",
    "x_video = data.x.tolist()\n",
    "y_video = data.y.tolist()"
   ]
  },
  {
   "cell_type": "markdown",
   "metadata": {},
   "source": [
    "#### Declarações iniciais"
   ]
  },
  {
   "cell_type": "code",
   "execution_count": 6,
   "metadata": {},
   "outputs": [],
   "source": [
    "# Ângulos iniciais\n",
    "tetha = radians(90) # Ângulo vertical\n",
    "alpha = radians(15) # Ângulo horizontal\n",
    "\n",
    "# Posição inicial\n",
    "x0 = 0\n",
    "y0 = y_video[0]\n",
    "z0 = 3 # Nesse sistema, a altura está no eixo Z\n",
    "\n",
    "# Decompondo a Velocidade inicial\n",
    "v0 = 126.3/3.6 # dado em [km/h] transformado em [m/s]\n",
    "vx0 = v0*sin(tetha)*cos(alpha)\n",
    "vy0 = v0*sin(tetha)*sin(alpha)\n",
    "vz0 = v0*cos(tetha)\n",
    "\n",
    "# Decompondo a Velocidade Angular inicial\n",
    "w = 3*(2*pi) # dado em [RPS] transformado em [rad]\n",
    "wx = -w*sin(tetha)*sin(alpha)\n",
    "wy = w*sin(tetha)*cos(alpha)\n",
    "wz = w*cos(tetha)\n",
    "w_vetor = np.array([wx, wy, wz]) # Compondo o Vetor da velocidade angular\n",
    "\n",
    "# Valores iniciais\n",
    "info_0 = [x0, y0, z0, vx0, vy0, vz0]"
   ]
  },
  {
   "cell_type": "code",
   "execution_count": 7,
   "metadata": {},
   "outputs": [],
   "source": [
    "# Definindo o Tempo\n",
    "dt = 1e-3\n",
    "tMax = 1+dt\n",
    "t_lista = np.arange(0, tMax, dt)"
   ]
  },
  {
   "cell_type": "markdown",
   "metadata": {},
   "source": [
    "#### Modelo"
   ]
  },
  {
   "cell_type": "code",
   "execution_count": 8,
   "metadata": {},
   "outputs": [],
   "source": [
    "def modelo(info, t_lista):\n",
    "    # Extraindo os Valores\n",
    "    x = info[0]\n",
    "    y = info[1]\n",
    "    z = info[2]\n",
    "    vx = info[3]\n",
    "    vy = info[4]\n",
    "    vz = info[5]\n",
    "\n",
    "    v_vetor = np.array([vx, vy, vz]) # Compondo o vetor da velocidade\n",
    "    \n",
    "    v_xy = sqrt(vx**2 + vy**2) # Componente da velocidade em xy\n",
    "    v = sqrt(v_xy**2 + vz**2) # Velocidade\n",
    "\n",
    "    # Calculos dos ângulos\n",
    "    cos_tetha = vz/v \n",
    "    sen_tetha = v_xy/v\n",
    "    cos_alpha = vx/v_xy\n",
    "    sen_alpha = vy/v_xy\n",
    "\n",
    "    # Calculando a Força de Arrasto\n",
    "    Fa = 0.5*d_ar*A*cd*(v**2)\n",
    "    Fa_x = -Fa*sen_tetha*cos_alpha\n",
    "    Fa_y = -Fa*sen_tetha*sen_alpha\n",
    "    Fa_z = -Fa*cos_tetha\n",
    "    \n",
    "    # Calculando a Força Magnus\n",
    "    Fmag = d_ar*pi*(r**3)*cl*np.cross(w_vetor, v_vetor)\n",
    "    Fmag_x = Fmag[0]\n",
    "    Fmag_y = Fmag[1]\n",
    "    Fmag_z = Fmag[2]\n",
    "    \n",
    "    # Calculando a aceleração (dV_dt)\n",
    "    dVx_dt = (Fa_x + Fmag_x)/m\n",
    "    dVy_dt = (Fa_y + Fmag_y)/m\n",
    "    dVz_dt = (-(m*g) + Fa_z + Fmag_z)/m\n",
    "\n",
    "    if z <= 0: # Impedindo a bola de atravessar o chão\n",
    "        return [0, 0, 0, 0 ,0 ,0]\n",
    "    else:\n",
    "        return [vx, vy, vz, dVx_dt ,dVy_dt ,dVz_dt]"
   ]
  },
  {
   "cell_type": "markdown",
   "metadata": {},
   "source": [
    "#### Validação"
   ]
  },
  {
   "cell_type": "code",
   "execution_count": 9,
   "metadata": {},
   "outputs": [
    {
     "name": "stdout",
     "output_type": "stream",
     "text": [
      "Tempo para passar da rede: 0.276s\n",
      "Tempo para bater no chão: 0.562s\n",
      "Posição final em X: 17.55m\n",
      "Posição final em Y: 1.86m\n",
      "Posição final em Z: -0.0m\n",
      "\n",
      "Erro Percentual do Modelo: 7.393%\n"
     ]
    }
   ],
   "source": [
    "infos_Odeint = odeint(modelo, info_0, t_lista)\n",
    "\n",
    "posX = list(infos_Odeint[:,0])\n",
    "posY = list(infos_Odeint[:,1])\n",
    "posZ = list(infos_Odeint[:,2])\n",
    "\n",
    "tempo_chao = 0\n",
    "\n",
    "rede = False\n",
    "index = len(t_lista)-1 # index do ultimo valor do modelo (valor em que a bola bate no chão)\n",
    "for i, t in enumerate(t_lista):\n",
    "    if not rede and (posX[i] >= 9):\n",
    "        tempo_rede = t\n",
    "        rede = True\n",
    "    if rede and (posZ[i] <= 0 and posX[i] <= 18):\n",
    "        tempo_chao = t\n",
    "        index = i\n",
    "        break\n",
    "\n",
    "print(f'Tempo para passar da rede: {round(tempo_rede, 3)}s')\n",
    "print(f'Tempo para bater no chão: {round(tempo_chao, 3)}s')    \n",
    "print(f'Posição final em X: {round(posX[index], 2)}m')\n",
    "print(f'Posição final em Y: {round(posY[index], 2)}m')\n",
    "print(f'Posição final em Z: {round(posZ[index], 2)}m')\n",
    "dado_tempo_rede = 0.257 # tempo decorrido para bater na rede pego no vídeo\n",
    "erro = ((tempo_rede - dado_tempo_rede)/dado_tempo_rede)*100\n",
    "print(f'\\nErro Percentual do Modelo: {round(erro, 3)}%')\n",
    "\n",
    "#%matplotlib inline\n",
    "%matplotlib qt5\n",
    "\n",
    "ax = plt.axes(projection='3d')\n",
    "ax.plot3D(rede_x, rede_y, rede_z, color='grey') # rede\n",
    "ax.plot3D(quadra_x, quadra_y, quadra_z, color='black') # quadra\n",
    "ax.plot3D(posX[0], posY[0], posZ[0], 'ro') # Bola\n",
    "\n",
    "ax.plot3D(posX[0:index], posY[0: index], posZ[0: index], color=\"orange\")\n",
    "plt.title(\"Trajetória da Bola de Volei (Validação)\")\n",
    "plt.grid()\n",
    "ax.set_xlabel('X [m]')\n",
    "ax.set_ylabel('Y [m]')\n",
    "ax.set_zlabel('Z [m]')\n",
    "set_axis_equal(ax)\n",
    "plt.show()"
   ]
  },
  {
   "cell_type": "code",
   "execution_count": 10,
   "metadata": {},
   "outputs": [
    {
     "data": {
      "image/png": "[encoded data removed]",
      "text/plain": [
       "<Figure size 432x288 with 1 Axes>"
      ]
     },
     "metadata": {
      "needs_background": "light"
     },
     "output_type": "display_data"
    }
   ],
   "source": [
    "%matplotlib inline\n",
    "# Validação do modelo usando os dados coletados do Vídeo\n",
    "plt.plot(posX, posY, color='orange', label='Modelo')\n",
    "plt.plot(x_video, y_video, 'bo', label='Vídeo')\n",
    "plt.title(\"Trajetória da Bola de Volei em XY (Validação)\")\n",
    "plt.xlabel(\"X [m]\")\n",
    "plt.ylabel(\"Y [m]\")\n",
    "plt.grid()\n",
    "plt.legend()\n",
    "plt.axis(\"equal\")\n",
    "plt.show()"
   ]
  },
  {
   "cell_type": "markdown",
   "metadata": {},
   "source": [
    "#### Implementação"
   ]
  },
  {
   "cell_type": "markdown",
   "metadata": {},
   "source": [
    "#### Gráficos Conclusivos"
   ]
  },
  {
   "cell_type": "code",
   "execution_count": 11,
   "metadata": {},
   "outputs": [],
   "source": [
    "# lista de Velocidades Angulares\n",
    "dw = 0.5\n",
    "lista_w = np.arange(3, 10+dw, dw)*(2*pi)\n",
    "# lista de Velocidades iniciais\n",
    "dv = 1\n",
    "lista_v = np.arange(100, 130+dv, dv)\n",
    "# lista de Alturas iniciais\n",
    "dz = 0.02\n",
    "lista_z = np.arange(3, 3.2+dz, dz)\n",
    "# lista de Ângulos Verticais Iniciais\n",
    "dtetha = 1\n",
    "lista_tetha = np.arange(85, 95+dtetha, dtetha)\n",
    "# lista de Ângulos Horizontais Iniciais\n",
    "dalpha = 1\n",
    "lista_alpha = np.arange(10, 20+dalpha, dalpha)"
   ]
  },
  {
   "cell_type": "code",
   "execution_count": 21,
   "metadata": {},
   "outputs": [],
   "source": [
    "# Altera a cor da dependendo se a bola passou da rede e bateu no chão da quadra\n",
    "def verifica(posX, posZ):\n",
    "    rede = False\n",
    "    cor = 'ro'\n",
    "    for i, t in enumerate(t_lista):\n",
    "        if not rede and (posX[i] >= 9 and posZ[i] - r >= 2.43):\n",
    "            rede = True\n",
    "            cor = 'yo'\n",
    "        if rede and (posZ[i] <= 0 and posX[i] <= 18):\n",
    "            cor = 'go'\n",
    "            return cor\n",
    "    return cor\n",
    "\n",
    "# Legenda:\n",
    "# Vermelho: Não passou da rede\n",
    "# Amarelo: Passou da rede, mas caiu fora da quadra\n",
    "# Verde: Passou da rede e cai dentro da quadra"
   ]
  },
  {
   "cell_type": "code",
   "execution_count": 22,
   "metadata": {},
   "outputs": [],
   "source": [
    "# tetha_lista = np.arange(85,95,0.5)\n",
    "# h_lista = np.arange(3, 3.3+0.02, 0.02)\n",
    "\n",
    "# # Decompondo a Velocidade Angular inicial\n",
    "# w = 3*(2*pi) # dado em [RPS] transformado em [rad]\n",
    "# wx = -w*sin(tetha)*sin(alpha)\n",
    "# wy = w*sin(tetha)*cos(alpha)\n",
    "# wz = w*cos(tetha)\n",
    "# w_vetor = np.array([wx, wy, wz]) # Compondo o Vetor da velocidade angular\n",
    "\n",
    "# for valor in tetha_lista:\n",
    "#     tetha = radians(valor)\n",
    "\n",
    "#     vx0 = v0*sin(tetha)*cos(alpha)\n",
    "#     vy0 = v0*sin(tetha)*sin(alpha)\n",
    "#     vz0 = v0*cos(tetha)\n",
    "\n",
    "#     wx = -w*sin(tetha)*sin(alpha)\n",
    "#     wy = w*sin(tetha)*cos(alpha)\n",
    "#     wz = w*cos(tetha)\n",
    "#     w_vetor = np.array([wx, wy, wz])\n",
    "\n",
    "#     for h in h_lista:\n",
    "#         z0 = h\n",
    "#         info_0 = [x0, y0, z0, vx0, vy0, vz0]\n",
    "#         info = odeint(modelo, info_0, t_lista)\n",
    "#         posX = info[:,0]\n",
    "#         posY = info[:,1]\n",
    "#         posZ = info[:,2]\n",
    "#         cor = verifica(posX, posZ)\n",
    "#         plt.plot(valor, h, cor)\n",
    "\n",
    "# plt.title(\"angulo x altura\")\n",
    "# plt.xlabel('velocidade')\n",
    "# plt.ylabel('altura')\n",
    "# plt.grid()\n",
    "# plt.show()"
   ]
  },
  {
   "cell_type": "code",
   "execution_count": 27,
   "metadata": {},
   "outputs": [],
   "source": [
    "tetha_lista = np.arange(85,92,0.1)\n",
    "w_lista = np.arange(0,10+0.1, 0.1)\n",
    "\n",
    "# Ângulos iniciais\n",
    "v0 = 126.3/3.6\n",
    "tetha = radians(90) # Ângulo vertical\n",
    "alpha = radians(15) # Ângulo horizontal\n",
    "\n",
    "# Posição inicial\n",
    "x0 = 0\n",
    "y0 = y_video[0]\n",
    "z0 = 3.0\n",
    "\n",
    "for angulo in tetha_lista:\n",
    "    tetha = radians(angulo) # dado em [km/h] transformado em [m/s]\n",
    "    vx0 = v0*sin(tetha)*cos(alpha)\n",
    "    vy0 = v0*sin(tetha)*sin(alpha)\n",
    "    vz0 = v0*cos(tetha)\n",
    "    info_0 = [x0, y0, z0, vx0, vy0, vz0]\n",
    "    for valor in w_lista:\n",
    "        w = valor*(2*pi) # dado em [RPS] transformado em [rad]\n",
    "        wx = -w*sin(tetha)*sin(alpha)\n",
    "        wy = w*sin(tetha)*cos(alpha)\n",
    "        wz = w*cos(tetha)\n",
    "        w_vetor = np.array([wx, wy, wz])\n",
    "        info = odeint(modelo, info_0, t_lista)\n",
    "        posX = info[:,0]\n",
    "        posY = info[:,1]\n",
    "        posZ = info[:,2]\n",
    "        cor = verifica(posX, posZ)\n",
    "        plt.plot(angulo, valor, cor)\n",
    "\n",
    "plt.title(\"angulo x w\")\n",
    "plt.xlabel('angulo')\n",
    "plt.ylabel('w')\n",
    "plt.grid()\n",
    "plt.show()"
   ]
  },
  {
   "cell_type": "code",
   "execution_count": 28,
   "metadata": {},
   "outputs": [],
   "source": [
    "v_lista = np.arange(100, 140.5, 0.5)\n",
    "h_lista = np.arange(3, 3.2+0.05, 0.005)\n",
    "\n",
    "# Ângulos iniciais\n",
    "tetha = radians(85) # Ângulo vertical\n",
    "alpha = radians(15) # Ângulo horizontal\n",
    "\n",
    "# Posição inicial\n",
    "x0 = 0\n",
    "y0 = y_video[0]\n",
    "\n",
    "# Decompondo a Velocidade Angular inicial\n",
    "w = 6*(2*pi) # dado em [RPS] transformado em [rad]\n",
    "wx = -w*sin(tetha)*sin(alpha)\n",
    "wy = w*sin(tetha)*cos(alpha)\n",
    "wz = w*cos(tetha)\n",
    "w_vetor = np.array([wx, wy, wz]) # Compondo o Vetor da velocidade angular\n",
    "\n",
    "for v in v_lista:\n",
    "    v0 = v/3.6 # dado em [km/h] transformado em [m/s]\n",
    "    vx0 = v0*sin(tetha)*cos(alpha)\n",
    "    vy0 = v0*sin(tetha)*sin(alpha)\n",
    "    vz0 = v0*cos(tetha)\n",
    "    for h in h_lista:\n",
    "        z0 = h\n",
    "        info_0 = [x0, y0, z0, vx0, vy0, vz0]\n",
    "        info = odeint(modelo, info_0, t_lista)\n",
    "        posX = info[:,0]\n",
    "        posY = info[:,1]\n",
    "        posZ = info[:,2]\n",
    "        cor = verifica(posX, posZ)\n",
    "        plt.plot(v, h, cor)\n",
    "\n",
    "plt.title(\"velocidade x altura\")\n",
    "plt.xlabel('velocidade')\n",
    "plt.ylabel('altura')\n",
    "plt.grid()\n",
    "plt.show()"
   ]
  }
 ],
 "metadata": {
  "kernelspec": {
   "display_name": "Python 3.9.7 ('base')",
   "language": "python",
   "name": "python3"
  },
  "language_info": {
   "codemirror_mode": {
    "name": "ipython",
    "version": 3
   },
   "file_extension": ".py",
   "mimetype": "text/x-python",
   "name": "python",
   "nbconvert_exporter": "python",
   "pygments_lexer": "ipython3",
   "version": "3.9.7"
  },
  "vscode": {
   "interpreter": {
    "hash": "ee1c0fc47c410b17543a02385d473ae622eab23db601d83f036b88738d4c0b86"
   }
  }
 },
 "nbformat": 4,
 "nbformat_minor": 2
}
