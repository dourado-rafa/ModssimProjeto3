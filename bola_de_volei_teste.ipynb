{
 "cells": [
  {
   "cell_type": "markdown",
   "metadata": {},
   "source": [
    "# Código de Testes\n",
    "-----\n",
    "\n",
    "Use esse código para testar a trajetória da bola para pontos específicos"
   ]
  },
  {
   "cell_type": "markdown",
   "metadata": {},
   "source": [
    "#### Bibliotecas e Funções Básicas"
   ]
  },
  {
   "cell_type": "code",
   "execution_count": 10,
   "metadata": {},
   "outputs": [],
   "source": [
    "# Importa bibliotecas\n",
    "import numpy as np\n",
    "import matplotlib.pyplot as plt\n",
    "from math import *\n",
    "from scipy.integrate import odeint"
   ]
  },
  {
   "cell_type": "code",
   "execution_count": 11,
   "metadata": {},
   "outputs": [],
   "source": [
    "# Função para deixar os eixos 3D igual (equivalente ao plt.axes('equal'))\n",
    "def set_axis_equal(ax):\n",
    "    x_limits = ax.get_xlim3d()\n",
    "    y_limits = ax.get_ylim3d()\n",
    "    z_limits = ax.get_zlim3d()\n",
    "\n",
    "    x_range = abs(x_limits[1] - x_limits[0])\n",
    "    x_middle = np.mean(x_limits)\n",
    "    y_range = abs(y_limits[1] - y_limits[0])\n",
    "    y_middle = np.mean(y_limits)\n",
    "    z_range = abs(z_limits[1] - z_limits[0])\n",
    "    z_middle = np.mean(z_limits)\n",
    "    \n",
    "    plot_radius = 0.5*max([x_range, y_range, z_range])\n",
    "\n",
    "    ax.set_xlim3d([x_middle - plot_radius, x_middle + plot_radius])\n",
    "    ax.set_ylim3d([y_middle - plot_radius, y_middle + plot_radius])\n",
    "    ax.set_zlim3d([0, z_middle + plot_radius])\n",
    "# Fonte: https://stackoverflow.com/questions/13685386/matplotlib-equal-unit-length-with-equal-aspect-ratio-z-axis-is-not-equal-to"
   ]
  },
  {
   "cell_type": "markdown",
   "metadata": {},
   "source": [
    "#### Parâmetros"
   ]
  },
  {
   "cell_type": "code",
   "execution_count": 12,
   "metadata": {},
   "outputs": [],
   "source": [
    "d_ar = 1.2 # Densidade do Ar [kg/m³]\n",
    "g = 9.8 # Aceleração da Gravidade [m/s]\n",
    "\n",
    "cl = 1 # Coeficiente de Lift (Magnus)\n",
    "cd = 0.1 # Coeficiente de Arrasto\n",
    "\n",
    "r = 0.105 # Raio da Bola [m]\n",
    "m = 0.27 # Massa da Bola [kg]\n",
    "A = pi*(r**2) # Álea Transversal da Bola [m²]"
   ]
  },
  {
   "cell_type": "markdown",
   "metadata": {},
   "source": [
    "#### A Quadra de Volei"
   ]
  },
  {
   "cell_type": "code",
   "execution_count": 13,
   "metadata": {},
   "outputs": [],
   "source": [
    "# Quadra: 9 mestros de largula por 18 metros de comprimento\n",
    "# Rede: 2,43 metros de altura, localizada no meio da quadra (9 metros)\n",
    "\n",
    "quadra_x = [0, 18, 18, 0, 0]\n",
    "quadra_y = [-4.5, -4.5, 4.5, 4.5, -4.5]\n",
    "quadra_z = [0, 0, 0, 0, 0]\n",
    "\n",
    "rede_x = [9, 9, 9, 9, 9]\n",
    "rede_y = [-4.5, -4.5, 4.5, 4.5, -4.5]\n",
    "rede_z = [1.43, 2.43, 2.43, 1.43, 1.43]"
   ]
  },
  {
   "cell_type": "markdown",
   "metadata": {},
   "source": [
    "#### Declarações iniciais"
   ]
  },
  {
   "cell_type": "code",
   "execution_count": 14,
   "metadata": {},
   "outputs": [],
   "source": [
    "# Ângulos iniciais\n",
    "tetha = radians(90) # Ângulo vertical\n",
    "alpha = radians(15) # Ângulo horizontal\n",
    "\n",
    "# Posição inicial\n",
    "x0 = 0\n",
    "y0 = -4\n",
    "z0 = 3 # Nesse sistema, a altura está no eixo Z\n",
    "\n",
    "# Decompondo a Velocidade inicial\n",
    "v0 = 126.3/3.6 # dado em [km/h] transformado em [m/s]\n",
    "vx0 = v0*sin(tetha)*cos(alpha)\n",
    "vy0 = v0*sin(tetha)*sin(alpha)\n",
    "vz0 = v0*cos(tetha)\n",
    "\n",
    "# Decompondo a Velocidade Angular inicial\n",
    "w = 7*(2*pi) # dado em [RPS] transformado em [rad]\n",
    "wx = -w*sin(tetha)*sin(alpha)\n",
    "wy = w*sin(tetha)*cos(alpha)\n",
    "wz = w*cos(tetha)\n",
    "w_vetor = np.array([wx, wy, wz]) # Compondo o Vetor da velocidade angular\n",
    "\n",
    "# Valores iniciais\n",
    "info_0 = [x0, y0, z0, vx0, vy0, vz0]\n",
    "\n",
    "# Definindo o Tempo\n",
    "dt = 1e-3\n",
    "tMax = 1.5+dt\n",
    "t_lista = np.arange(0, tMax, dt)"
   ]
  },
  {
   "cell_type": "markdown",
   "metadata": {},
   "source": [
    "#### Modelo"
   ]
  },
  {
   "cell_type": "code",
   "execution_count": 15,
   "metadata": {},
   "outputs": [],
   "source": [
    "def modelo(info, t_lista):\n",
    "    # Extraindo os Valores\n",
    "    x = info[0]\n",
    "    y = info[1]\n",
    "    z = info[2]\n",
    "    vx = info[3]\n",
    "    vy = info[4]\n",
    "    vz = info[5]\n",
    "    \n",
    "    v_vetor = np.array([vx, vy, vz]) # Compondo o vetor da velocidade\n",
    "    \n",
    "    v_xy = sqrt(vx**2 + vy**2) # Componente da velocidade em xy\n",
    "    v = sqrt(v_xy**2 + vz**2) # Velocidade\n",
    "\n",
    "    # Calculos dos ângulos\n",
    "    cos_tetha = vz/v \n",
    "    sen_tetha = v_xy/v\n",
    "    cos_alpha = vx/v_xy\n",
    "    sen_alpha = vy/v_xy\n",
    "\n",
    "    # Calculando a Força de Arrasto\n",
    "    Fa = 0.5*d_ar*A*cd*(v**2)\n",
    "    Fa_x = -Fa*sen_tetha*cos_alpha\n",
    "    Fa_y = -Fa*sen_tetha*sen_alpha\n",
    "    Fa_z = -Fa*cos_tetha\n",
    "    \n",
    "    # Calculando a Força Magnus\n",
    "    Fmag = 0.5*d_ar*pi*(r**3)*cl*np.cross(w_vetor, v_vetor)\n",
    "    Fmag_x = Fmag[0]\n",
    "    Fmag_y = Fmag[1]\n",
    "    Fmag_z = Fmag[2]\n",
    "    \n",
    "    # Calculando a aceleração (dV_dt)\n",
    "    dVx_dt = (Fa_x + Fmag_x)/m\n",
    "    dVy_dt = (Fa_y + Fmag_y)/m\n",
    "    dVz_dt = (-(m*g) + Fa_z + Fmag_z)/m\n",
    "\n",
    "    if z <= 0:\n",
    "        return [0, 0, 0, 0 ,0 ,0]\n",
    "    else: \n",
    "        return [vx, vy, vz, dVx_dt ,dVy_dt ,dVz_dt]    "
   ]
  },
  {
   "cell_type": "markdown",
   "metadata": {},
   "source": [
    "#### Teste"
   ]
  },
  {
   "cell_type": "code",
   "execution_count": 16,
   "metadata": {},
   "outputs": [
    {
     "name": "stdout",
     "output_type": "stream",
     "text": [
      "posição final em X: 16.85m\n",
      "posição final em Y: 0.52m\n",
      "posição final em Z: -0.0m\n"
     ]
    }
   ],
   "source": [
    "# Implementando\n",
    "infos_Odeint = odeint(modelo, info_0, t_lista)\n",
    "\n",
    "posX = list(infos_Odeint[:,0])\n",
    "posY = list(infos_Odeint[:,1])\n",
    "posZ = list(infos_Odeint[:,2])\n",
    "\n",
    "index = len(t_lista)-1\n",
    "rede = False\n",
    "cor = \"red\"\n",
    "for i, t in enumerate(t_lista):\n",
    "    if not rede and (posX[i] >= 9 and posZ[i]-r >= 2.43):\n",
    "        print(f'tempo para passar da rede: {t}s')\n",
    "        rede = True\n",
    "        cor = \"orange\"\n",
    "    if rede and (posZ[i] <= 0 and posX[i] <= 18):\n",
    "        print(f'tempo para bater no chão: {t}s')\n",
    "        cor = \"green\"\n",
    "        index = i\n",
    "        break\n",
    "    \n",
    "print(f'posição final em X: {round(posX[index], 2)}m')\n",
    "print(f'posição final em Y: {round(posY[index], 2)}m')\n",
    "print(f'posição final em Z: {round(posZ[index], 2)}m')"
   ]
  },
  {
   "cell_type": "code",
   "execution_count": 17,
   "metadata": {},
   "outputs": [
    {
     "name": "stderr",
     "output_type": "stream",
     "text": [
      "No handles with labels found to put in legend.\n"
     ]
    }
   ],
   "source": [
    "%matplotlib inline\n",
    "%matplotlib qt5\n",
    "\n",
    "ax = plt.axes(projection='3d')\n",
    "ax.plot3D(rede_x, rede_y, rede_z, color='grey') # rede\n",
    "ax.plot3D(quadra_x, quadra_y, quadra_z, color='black') # quadra\n",
    "ax.plot3D(posX[0], posY[0], posZ[0], 'ro') # Bola\n",
    "\n",
    "ax.plot3D(posX[0:index], posY[0:index], posZ[0:index], color=cor)\n",
    "plt.title(\"Trajetória da Bola de Volei (Teste)\")\n",
    "plt.grid()\n",
    "ax.set_xlabel('X')\n",
    "ax.set_ylabel('Y')\n",
    "ax.set_zlabel('Z')\n",
    "plt.legend()\n",
    "set_axis_equal(ax)\n",
    "plt.show()"
   ]
  },
  {
   "cell_type": "code",
   "execution_count": 18,
   "metadata": {},
   "outputs": [],
   "source": [
    "# # ANIMAÇÃO\n",
    "# plt.close('all')\n",
    "# %matplotlib qt5\n",
    "# get_ipython().magic('matplotlib qt5')\n",
    "# import matplotlib.patches as patches\n",
    "# from matplotlib import animation\n",
    "\n",
    "# fig = plt.figure()\n",
    "# plt.title('Saque de Volei')\n",
    "# plt.xlabel('X')\n",
    "# plt.ylabel('Z')\n",
    "# #plt.axis('equal')\n",
    "\n",
    "# ax = fig.add_subplot()\n",
    "\n",
    "# ax.set_xlim(-0.1, 20)\n",
    "# ax.set_ylim(-0.1, 5) # Eixo Z\n",
    "\n",
    "# bola = patches.Circle((x0, z0), r, fc=cor)\n",
    "# rede = patches.Rectangle((9, 1.43), 0.1, 1, fc='gray')\n",
    "# quadra = patches.Rectangle((0, -0.1), 18, 0.1, fc='black')\n",
    "\n",
    "# def init():\n",
    "#     ax.add_patch(bola)\n",
    "#     ax.add_patch(rede)\n",
    "#     ax.add_patch(quadra)\n",
    "#     return None\n",
    "\n",
    "# def animate(i):    \n",
    "#     bola.center = posX[i], posZ[i]\n",
    "#     return None\n",
    "\n",
    "# anim = animation.FuncAnimation(fig, animate, init_func=init, frames=len(t_lista), interval=1, blit=False)"
   ]
  }
 ],
 "metadata": {
  "interpreter": {
   "hash": "fcade83cbec70c4570249288f8f1595edd0333f0171fd8564bcd72f7e259e8a3"
  },
  "kernelspec": {
   "display_name": "Python 3.9.7 ('base')",
   "language": "python",
   "name": "python3"
  },
  "language_info": {
   "codemirror_mode": {
    "name": "ipython",
    "version": 3
   },
   "file_extension": ".py",
   "mimetype": "text/x-python",
   "name": "python",
   "nbconvert_exporter": "python",
   "pygments_lexer": "ipython3",
   "version": "3.9.7"
  }
 },
 "nbformat": 4,
 "nbformat_minor": 2
}
