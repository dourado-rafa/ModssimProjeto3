{
 "cells": [
  {
   "cell_type": "code",
   "execution_count": 13,
   "metadata": {},
   "outputs": [],
   "source": [
    "# Importa bibliotecas\n",
    "import numpy as np\n",
    "import matplotlib.pyplot as plt\n",
    "from math import *\n",
    "from scipy.integrate import odeint"
   ]
  },
  {
   "cell_type": "code",
   "execution_count": 14,
   "metadata": {},
   "outputs": [],
   "source": [
    "d_ar = 1.2\n",
    "g = 9.8\n",
    "r = 0.066\n",
    "m = 0.058\n",
    "cl = 1.2\n",
    "A = pi*(r**2)\n",
    "Cd = 0.64\n",
    "\n",
    "angulo_vertical = radians(8)\n",
    "angulo_horizontal = radians(0)\n",
    "\n",
    "x0 = 0\n",
    "y0 = 0\n",
    "z0 = 3\n",
    "\n",
    "v0 = 200/3.6\n",
    "vx0 = v0*cos(angulo_vertical)*cos(angulo_horizontal)\n",
    "vy0 = 0\n",
    "vz0 = -v0*sin(angulo_vertical)\n",
    "\n",
    "w = 2*(2*pi)\n",
    "wx = w*sin(angulo_vertical)*cos(90-angulo_horizontal)\n",
    "wy = 0\n",
    "wz = w*cos(angulo_vertical)\n",
    "\n",
    "w = np.array([wx, wy, wz])\n",
    "\n",
    "info_0 = [x0, y0, z0, vx0, vy0, vz0]"
   ]
  },
  {
   "cell_type": "code",
   "execution_count": 15,
   "metadata": {},
   "outputs": [],
   "source": [
    "dt = 1e-2\n",
    "t_lista = np.arange(0,1+dt,dt)\n",
    "i = 0\n",
    "def modelo(info, t_lista):\n",
    "    \n",
    "    x = info[0]\n",
    "    y = info[1]\n",
    "    z = info[2]\n",
    "    vx = info[3]\n",
    "    vy = info[4]\n",
    "    vz = info[5]\n",
    "    V_vetor = np.array([vx, vy, vz])\n",
    "    \n",
    "    v_xy = sqrt(vx**2 + vy**2)\n",
    "    v = sqrt(v_xy **2 + vz**2)\n",
    "\n",
    "    cos_vertical = v_xy/v\n",
    "    sen_vertical = -vz/v\n",
    "    cos_horizontal = vx/v_xy\n",
    "    sen_horizontal = vy/v_xy\n",
    "    \n",
    "    Fa = 0.5*d_ar*A*Cd*(v**2)\n",
    "    Fa_x = -Fa*cos_vertical*cos_horizontal\n",
    "    Fa_y = -Fa*cos_vertical*sen_horizontal\n",
    "    Fa_z = Fa*sen_vertical\n",
    "    \n",
    "    Fmag = cl*pi*d_ar*(r**3)*np.cross(w, V_vetor)\n",
    "    Fmag_x = Fmag[0]\n",
    "    Fmag_y = Fmag[1]\n",
    "    Fmag_z = Fmag[2]\n",
    "    \n",
    "    dVx_dt = (Fa_x + Fmag_x)/m\n",
    "    dVy_dt = (Fa_y + Fmag_y)/m\n",
    "    dVz_dt = (-(m*g) + Fmag_z+ Fa_z)/m\n",
    "    \n",
    "    if z <= 0:\n",
    "        return [0, 0, 0, 0, 0, 0]\n",
    "    else:\n",
    "        return [vx, vy, vz, dVx_dt ,dVy_dt ,dVz_dt]"
   ]
  },
  {
   "cell_type": "code",
   "execution_count": 16,
   "metadata": {},
   "outputs": [],
   "source": [
    "def set_axes_equal(ax):\n",
    "    x_limits = ax.get_xlim3d()\n",
    "    y_limits = ax.get_ylim3d()\n",
    "    z_limits = ax.get_zlim3d()\n",
    "\n",
    "    x_range = abs(x_limits[1] - x_limits[0])\n",
    "    x_middle = np.mean(x_limits)\n",
    "    y_range = abs(y_limits[1] - y_limits[0])\n",
    "    y_middle = np.mean(y_limits)\n",
    "    z_range = abs(z_limits[1] - z_limits[0])\n",
    "    z_middle = np.mean(z_limits)\n",
    "    \n",
    "    plot_radius = 0.5*max([x_range, y_range, z_range])\n",
    "\n",
    "    ax.set_xlim3d([x_middle - plot_radius, x_middle + plot_radius])\n",
    "    ax.set_ylim3d([y_middle - plot_radius, y_middle + plot_radius])\n",
    "    ax.set_zlim3d([0, z_middle + plot_radius])"
   ]
  },
  {
   "cell_type": "code",
   "execution_count": 17,
   "metadata": {},
   "outputs": [
    {
     "name": "stdout",
     "output_type": "stream",
     "text": [
      "14.28m\n",
      "0.84m\n",
      "0.0m\n",
      "0.55 segundos\n"
     ]
    }
   ],
   "source": [
    "infos_Odeint = odeint(modelo, info_0, t_lista)\n",
    "\n",
    "posX = list(infos_Odeint[:,0])\n",
    "posY = list(infos_Odeint[:,1])\n",
    "posZ = list(infos_Odeint[:,2])\n",
    "lista_0 = [0]*t_lista\n",
    "\n",
    "get_ipython().magic('matplotlib qt5')\n",
    "import matplotlib.patches as patches\n",
    "from matplotlib import animation\n",
    "%matplotlib qt5\n",
    "\n",
    "ax = plt.axes(projection='3d')\n",
    "ax.plot3D(posX, posY, posZ)\n",
    "ax.plot3D(posX[0], posY[0], posZ[0], 'ro') # Bola\n",
    "# ax.plot3D(lista_0, posY, posZ, color='gray') # Sombra em YZ\n",
    "# ax.plot3D(posX, lista_0, posZ, color='gray') # Sombra em XZ\n",
    "# ax.plot3D(posX, posY, lista_0, color='gray') # Sombra em XY\n",
    "plt.title(\"Trajetória da Bolinha de Tênis\")\n",
    "plt.grid()\n",
    "ax.set_xlabel('X')\n",
    "ax.set_ylabel('Y')\n",
    "ax.set_zlabel('Z')\n",
    "# plt.legend()\n",
    "set_axes_equal(ax)\n",
    "plt.show()\n",
    "\n",
    "print(f\"{round(posX[-1], 2)}m\\n{round(posY[-1], 2)}m\\n{abs(round(posZ[-1], 2))}m\")\n",
    "print(f\"{t_lista[posX.index(posX[-1])]} segundos\")"
   ]
  },
  {
   "cell_type": "code",
   "execution_count": 18,
   "metadata": {},
   "outputs": [],
   "source": [
    "# plt.close('all')\n",
    "# y = [6.110771, 6.017559, 5.907603, 5.017927, 4.595921, 3.189146, 2.184168, 2.078421, 1.920554, 1.728745, 1.588754]\n",
    "\n",
    "# tempo = [0.767, 0.801, 0.834, 0.901, 0.968, 1.034, 1.101, 1.134, 1.168, 1.201, 1.235]\n",
    "\n",
    "# plt.plot(t_lista + 0.8, posX)\n",
    "# plt.plot(tempo, y)\n",
    "# plt.show()\n",
    "\n",
    "# #0,367"
   ]
  }
 ],
 "metadata": {
  "interpreter": {
   "hash": "fcade83cbec70c4570249288f8f1595edd0333f0171fd8564bcd72f7e259e8a3"
  },
  "kernelspec": {
   "display_name": "Python 3.9.7 ('base')",
   "language": "python",
   "name": "python3"
  },
  "language_info": {
   "codemirror_mode": {
    "name": "ipython",
    "version": 3
   },
   "file_extension": ".py",
   "mimetype": "text/x-python",
   "name": "python",
   "nbconvert_exporter": "python",
   "pygments_lexer": "ipython3",
   "version": "3.9.7"
  }
 },
 "nbformat": 4,
 "nbformat_minor": 2
}
