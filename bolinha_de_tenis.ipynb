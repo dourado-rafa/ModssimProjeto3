{
 "cells": [
  {
   "cell_type": "code",
   "execution_count": 63,
   "metadata": {},
   "outputs": [],
   "source": [
    "# Importa bibliotecas\n",
    "import numpy as np\n",
    "import matplotlib.pyplot as plt\n",
    "from math import *\n",
    "from scipy.integrate import odeint"
   ]
  },
  {
   "cell_type": "code",
   "execution_count": 64,
   "metadata": {},
   "outputs": [],
   "source": [
    "d_ar = 1.2\n",
    "g = 9.8\n",
    "r = 0.066\n",
    "m = 0.058\n",
    "cl = 1\n",
    "A = pi*(r**2)\n",
    "Cd = 0.64\n",
    "\n",
    "angulo_vertical = radians(8)\n",
    "angulo_horizontal = radians(0)\n",
    "\n",
    "x0 = 0\n",
    "y0 = 0\n",
    "z0 = 3\n",
    "\n",
    "v0 = 200/3.6\n",
    "vx0 = v0*cos(angulo_vertical)*cos(angulo_horizontal)\n",
    "vy0 = 0\n",
    "vz0 = -v0*sin(angulo_vertical)\n",
    "\n",
    "w = 7\n",
    "wx = w*sin(angulo_vertical)*cos(90-angulo_horizontal)\n",
    "wy = 0\n",
    "wz = w*cos(angulo_vertical)\n",
    "\n",
    "w = np.array([wx, wy, wz])\n",
    "\n",
    "info_0 = [x0, y0, z0, vx0, vy0, vz0]"
   ]
  },
  {
   "cell_type": "code",
   "execution_count": 65,
   "metadata": {},
   "outputs": [],
   "source": [
    "dt = 1e-2\n",
    "t_lista = np.arange(0,7+dt,dt)\n",
    "\n",
    "def modelo(info, t_lista):\n",
    "    \n",
    "    x = info[0]\n",
    "    y = info[1]\n",
    "    z = info[2]\n",
    "    vx = info[3]\n",
    "    vy = info[4]\n",
    "    vz = info[5]\n",
    "    \n",
    "    v_xy = (vx**2 + vy**2)**(1/2)\n",
    "    v = (v_xy **2 + vz**2)**(1/2)\n",
    "    v_vetor = np.array([vx, vy, vz])\n",
    "\n",
    "    cos_vertical = v_xy/v\n",
    "    sen_vertical = -vz/v\n",
    "    cos_horizontal = vx/v_xy\n",
    "    sen_horizontal = vy/v_xy\n",
    "    \n",
    "    Fa = (1/2)*d_ar*A*Cd*(v**2)\n",
    "    Fa_x = -Fa*cos_vertical*cos_horizontal\n",
    "    Fa_y = -Fa*cos_vertical*sen_horizontal\n",
    "    Fa_z = Fa*sen_vertical\n",
    "    \n",
    "    Fmag = cl*pi*d_ar*(r**3)*np.cross(w, V_vetor)\n",
    "    Fmag_x = Fmag[0]\n",
    "    Fmag_y = Fmag[1]\n",
    "    Fmag_z = Fmag[2]\n",
    "    \n",
    "    ax = (Fa_x + Fmag_x)/m\n",
    "    ay = (Fa_y + Fmag_y)/m\n",
    "    az = (-(m*g) + Fmag_z+ Fa_z)/m\n",
    "    \n",
    "    if z <= 0:\n",
    "        return [0, 0, 0, 0, 0, 0]\n",
    "    else:\n",
    "        return [Vx, Vy, Vz, dVx_dt ,dVy_dt ,dVz_dt]"
   ]
  },
  {
   "cell_type": "code",
   "execution_count": 66,
   "metadata": {},
   "outputs": [],
   "source": [
    "def set_axes_equal(ax):\n",
    "    x_limits = ax.get_xlim3d()\n",
    "    y_limits = ax.get_ylim3d()\n",
    "    z_limits = ax.get_zlim3d()\n",
    "\n",
    "    x_range = abs(x_limits[1] - x_limits[0])\n",
    "    x_middle = np.mean(x_limits)\n",
    "    y_range = abs(y_limits[1] - y_limits[0])\n",
    "    y_middle = np.mean(y_limits)\n",
    "    z_range = abs(z_limits[1] - z_limits[0])\n",
    "    z_middle = np.mean(z_limits)\n",
    "    \n",
    "    plot_radius = 0.5*max([x_range, y_range, z_range])\n",
    "\n",
    "    ax.set_xlim3d([x_middle - plot_radius, x_middle + plot_radius])\n",
    "    ax.set_ylim3d([y_middle - plot_radius, y_middle + plot_radius])\n",
    "    ax.set_zlim3d([0, z_middle + plot_radius])"
   ]
  },
  {
   "cell_type": "code",
   "execution_count": 21,
   "metadata": {},
   "outputs": [
    {
     "ename": "NameError",
     "evalue": "name 'v' is not defined",
     "output_type": "error",
     "traceback": [
      "\u001b[1;31m---------------------------------------------------------------------------\u001b[0m",
      "\u001b[1;31mNameError\u001b[0m                                 Traceback (most recent call last)",
      "\u001b[1;32mC:\\Users\\RAFAEL~1\\AppData\\Local\\Temp/ipykernel_4704/3781237025.py\u001b[0m in \u001b[0;36m<module>\u001b[1;34m\u001b[0m\n\u001b[1;32m----> 1\u001b[1;33m \u001b[0minfos_Odeint\u001b[0m \u001b[1;33m=\u001b[0m \u001b[0modeint\u001b[0m\u001b[1;33m(\u001b[0m\u001b[0mmodelo\u001b[0m\u001b[1;33m,\u001b[0m \u001b[0minfo_0\u001b[0m\u001b[1;33m,\u001b[0m \u001b[0mt_lista\u001b[0m\u001b[1;33m)\u001b[0m\u001b[1;33m\u001b[0m\u001b[1;33m\u001b[0m\u001b[0m\n\u001b[0m\u001b[0;32m      2\u001b[0m \u001b[1;33m\u001b[0m\u001b[0m\n\u001b[0;32m      3\u001b[0m \u001b[0mposX\u001b[0m \u001b[1;33m=\u001b[0m \u001b[0minfos_Odeint\u001b[0m\u001b[1;33m[\u001b[0m\u001b[1;33m:\u001b[0m\u001b[1;33m,\u001b[0m\u001b[1;36m0\u001b[0m\u001b[1;33m]\u001b[0m\u001b[1;33m\u001b[0m\u001b[1;33m\u001b[0m\u001b[0m\n\u001b[0;32m      4\u001b[0m \u001b[0mposY\u001b[0m \u001b[1;33m=\u001b[0m \u001b[0minfos_Odeint\u001b[0m\u001b[1;33m[\u001b[0m\u001b[1;33m:\u001b[0m\u001b[1;33m,\u001b[0m\u001b[1;36m1\u001b[0m\u001b[1;33m]\u001b[0m\u001b[1;33m\u001b[0m\u001b[1;33m\u001b[0m\u001b[0m\n\u001b[0;32m      5\u001b[0m \u001b[0mposZ\u001b[0m \u001b[1;33m=\u001b[0m \u001b[0minfos_Odeint\u001b[0m\u001b[1;33m[\u001b[0m\u001b[1;33m:\u001b[0m\u001b[1;33m,\u001b[0m\u001b[1;36m2\u001b[0m\u001b[1;33m]\u001b[0m\u001b[1;33m\u001b[0m\u001b[1;33m\u001b[0m\u001b[0m\n",
      "\u001b[1;32mc:\\Users\\Rafael Dourado\\anaconda3\\lib\\site-packages\\scipy\\integrate\\odepack.py\u001b[0m in \u001b[0;36modeint\u001b[1;34m(func, y0, t, args, Dfun, col_deriv, full_output, ml, mu, rtol, atol, tcrit, h0, hmax, hmin, ixpr, mxstep, mxhnil, mxordn, mxords, printmessg, tfirst)\u001b[0m\n\u001b[0;32m    239\u001b[0m     \u001b[0mt\u001b[0m \u001b[1;33m=\u001b[0m \u001b[0mcopy\u001b[0m\u001b[1;33m(\u001b[0m\u001b[0mt\u001b[0m\u001b[1;33m)\u001b[0m\u001b[1;33m\u001b[0m\u001b[1;33m\u001b[0m\u001b[0m\n\u001b[0;32m    240\u001b[0m     \u001b[0my0\u001b[0m \u001b[1;33m=\u001b[0m \u001b[0mcopy\u001b[0m\u001b[1;33m(\u001b[0m\u001b[0my0\u001b[0m\u001b[1;33m)\u001b[0m\u001b[1;33m\u001b[0m\u001b[1;33m\u001b[0m\u001b[0m\n\u001b[1;32m--> 241\u001b[1;33m     output = _odepack.odeint(func, y0, t, args, Dfun, col_deriv, ml, mu,\n\u001b[0m\u001b[0;32m    242\u001b[0m                              \u001b[0mfull_output\u001b[0m\u001b[1;33m,\u001b[0m \u001b[0mrtol\u001b[0m\u001b[1;33m,\u001b[0m \u001b[0matol\u001b[0m\u001b[1;33m,\u001b[0m \u001b[0mtcrit\u001b[0m\u001b[1;33m,\u001b[0m \u001b[0mh0\u001b[0m\u001b[1;33m,\u001b[0m \u001b[0mhmax\u001b[0m\u001b[1;33m,\u001b[0m \u001b[0mhmin\u001b[0m\u001b[1;33m,\u001b[0m\u001b[1;33m\u001b[0m\u001b[1;33m\u001b[0m\u001b[0m\n\u001b[0;32m    243\u001b[0m                              \u001b[0mixpr\u001b[0m\u001b[1;33m,\u001b[0m \u001b[0mmxstep\u001b[0m\u001b[1;33m,\u001b[0m \u001b[0mmxhnil\u001b[0m\u001b[1;33m,\u001b[0m \u001b[0mmxordn\u001b[0m\u001b[1;33m,\u001b[0m \u001b[0mmxords\u001b[0m\u001b[1;33m,\u001b[0m\u001b[1;33m\u001b[0m\u001b[1;33m\u001b[0m\u001b[0m\n",
      "\u001b[1;32mC:\\Users\\RAFAEL~1\\AppData\\Local\\Temp/ipykernel_4704/4196502124.py\u001b[0m in \u001b[0;36mmodelo\u001b[1;34m(info, t_lista)\u001b[0m\n\u001b[0;32m     19\u001b[0m     \u001b[0msen_horizontal\u001b[0m \u001b[1;33m=\u001b[0m \u001b[0mVy\u001b[0m\u001b[1;33m/\u001b[0m\u001b[0mV_xy\u001b[0m\u001b[1;33m\u001b[0m\u001b[1;33m\u001b[0m\u001b[0m\n\u001b[0;32m     20\u001b[0m \u001b[1;33m\u001b[0m\u001b[0m\n\u001b[1;32m---> 21\u001b[1;33m     \u001b[0mFa\u001b[0m \u001b[1;33m=\u001b[0m \u001b[1;33m(\u001b[0m\u001b[1;36m1\u001b[0m\u001b[1;33m/\u001b[0m\u001b[1;36m2\u001b[0m\u001b[1;33m)\u001b[0m\u001b[1;33m*\u001b[0m\u001b[0md_ar\u001b[0m\u001b[1;33m*\u001b[0m\u001b[0mA\u001b[0m\u001b[1;33m*\u001b[0m\u001b[0mCd\u001b[0m\u001b[1;33m*\u001b[0m\u001b[1;33m(\u001b[0m\u001b[0mv\u001b[0m\u001b[1;33m**\u001b[0m\u001b[1;36m2\u001b[0m\u001b[1;33m)\u001b[0m\u001b[1;33m\u001b[0m\u001b[1;33m\u001b[0m\u001b[0m\n\u001b[0m\u001b[0;32m     22\u001b[0m     \u001b[0mFa_z\u001b[0m \u001b[1;33m=\u001b[0m \u001b[0mFa\u001b[0m\u001b[1;33m*\u001b[0m\u001b[0mcos_vertical\u001b[0m\u001b[1;33m\u001b[0m\u001b[1;33m\u001b[0m\u001b[0m\n\u001b[0;32m     23\u001b[0m     \u001b[0mFa_x\u001b[0m \u001b[1;33m=\u001b[0m \u001b[1;33m-\u001b[0m\u001b[0mFa\u001b[0m\u001b[1;33m*\u001b[0m\u001b[0msen_vertical\u001b[0m\u001b[1;33m*\u001b[0m\u001b[0mcos_horizontal\u001b[0m\u001b[1;33m\u001b[0m\u001b[1;33m\u001b[0m\u001b[0m\n",
      "\u001b[1;31mNameError\u001b[0m: name 'v' is not defined"
     ]
    }
   ],
   "source": [
    "infos_Odeint = odeint(modelo, info_0, t_lista)\n",
    "\n",
    "posX = infos_Odeint[:,0]\n",
    "posY = infos_Odeint[:,1]\n",
    "posZ = infos_Odeint[:,2]\n",
    "lista_0 = [0]*t_lista\n",
    "\n",
    "get_ipython().magic('matplotlib qt5')\n",
    "import matplotlib.patches as patches\n",
    "from matplotlib import animation\n",
    "%matplotlib qt5\n",
    "\n",
    "ax = plt.axes(projection='3d')\n",
    "ax.plot3D(posX, posY, posZ)\n",
    "ax.plot3D(posX[0], posY[0], posZ[0], 'ro') # Bola\n",
    "ax.plot3D(lista_0, posY, posZ, color='gray') # Sombra em YZ\n",
    "ax.plot3D(posX, lista_0, posZ, color='gray') # Sombra em XZ\n",
    "ax.plot3D(posX, posY, lista_0, color='gray') # Sombra em XY\n",
    "plt.title(\"Trajetória da Bolinha de Tênis\")\n",
    "plt.grid()\n",
    "ax.set_xlabel('X')\n",
    "ax.set_ylabel('Y')\n",
    "ax.set_zlabel('Z')\n",
    "# plt.legend()\n",
    "set_axes_equal(ax)\n",
    "plt.show()"
   ]
  },
  {
   "cell_type": "code",
   "execution_count": null,
   "metadata": {},
   "outputs": [],
   "source": []
  }
 ],
 "metadata": {
  "interpreter": {
   "hash": "fcade83cbec70c4570249288f8f1595edd0333f0171fd8564bcd72f7e259e8a3"
  },
  "kernelspec": {
   "display_name": "Python 3.9.7 ('base')",
   "language": "python",
   "name": "python3"
  },
  "language_info": {
   "codemirror_mode": {
    "name": "ipython",
    "version": 3
   },
   "file_extension": ".py",
   "mimetype": "text/x-python",
   "name": "python",
   "nbconvert_exporter": "python",
   "pygments_lexer": "ipython3",
   "version": "3.9.7"
  }
 },
 "nbformat": 4,
 "nbformat_minor": 2
}
