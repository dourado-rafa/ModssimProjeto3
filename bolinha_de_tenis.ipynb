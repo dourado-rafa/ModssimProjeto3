{
 "cells": [
  {
   "cell_type": "code",
   "execution_count": null,
   "metadata": {},
   "outputs": [],
   "source": [
    "# Importa bibliotecas\n",
    "import numpy as np\n",
    "import matplotlib.pyplot as plt\n",
    "from math import *\n",
    "from scipy.integrate import odeint"
   ]
  },
  {
   "cell_type": "code",
   "execution_count": null,
   "metadata": {},
   "outputs": [],
   "source": [
    "angulo_vertical = degrees(82)\n",
    "angulo_horizontal = degrees(0)\n",
    "x0 = 0\n",
    "y0 = 0\n",
    "z0 = 2.5\n",
    "v0 = 50*3.6\n",
    "vx0 = v0*sin(angulo_vertical)*cos(angulo_horizontal)\n",
    "vy0 = 0\n",
    "vz0 = -v0*cos(angulo_vertical)\n",
    "w0 = 7\n",
    "w0z = w0*cos(90-angulo_vertical)\n",
    "w0x = w0*sin(90-angulo_vertical)*cos(angulo_horizontal)\n",
    "w0y = 0\n",
    "\n",
    "v = np.array([vx0, vy0, vz0])\n",
    "w = np.array([wx0, wy0, wz0])\n",
    "\n",
    "info_0 = [x0, y0, z0, vx0, vy0, vz0]"
   ]
  },
  {
   "cell_type": "code",
   "execution_count": null,
   "metadata": {},
   "outputs": [],
   "source": [
    "dt = 1e-2\n",
    "t_lista = np.arange(0,7+dt,dt)\n",
    "Fmag = cl*pi*p*(r**3).np.cross(w,v)\n",
    "\n",
    "def modelo(info, t_lista):"
   ]
  },
  {
   "cell_type": "code",
   "execution_count": null,
   "metadata": {},
   "outputs": [],
   "source": []
  },
  {
   "cell_type": "code",
   "execution_count": null,
   "metadata": {},
   "outputs": [],
   "source": []
  }
 ],
 "metadata": {
  "kernelspec": {
   "display_name": "Python 3 (ipykernel)",
   "language": "python",
   "name": "python3"
  },
  "language_info": {
   "codemirror_mode": {
    "name": "ipython",
    "version": 3
   },
   "file_extension": ".py",
   "mimetype": "text/x-python",
   "name": "python",
   "nbconvert_exporter": "python",
   "pygments_lexer": "ipython3",
   "version": "3.9.7"
  }
 },
 "nbformat": 4,
 "nbformat_minor": 2
}
